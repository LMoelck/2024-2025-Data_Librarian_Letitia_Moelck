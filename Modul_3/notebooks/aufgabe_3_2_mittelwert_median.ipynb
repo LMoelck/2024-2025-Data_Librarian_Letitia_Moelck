{
 "cells": [
  {
   "cell_type": "code",
   "execution_count": 1,
   "id": "9e6a2909-88fe-4994-a7d1-d0f0bb5cd3f4",
   "metadata": {},
   "outputs": [],
   "source": [
    "import pandas as pd"
   ]
  },
  {
   "cell_type": "code",
   "execution_count": 2,
   "id": "78756b75-cf7b-4089-9b5b-03db0e8c2f41",
   "metadata": {},
   "outputs": [],
   "source": [
    "df = pd.read_csv(\"../data/Library_Usage.csv\",low_memory=False)"
   ]
  },
  {
   "cell_type": "code",
   "execution_count": 3,
   "id": "fd91cdf1-cdff-41af-ae07-f6ce1ca53814",
   "metadata": {},
   "outputs": [
    {
     "data": {
      "text/plain": [
       "np.float64(155.218052709061)"
      ]
     },
     "execution_count": 3,
     "metadata": {},
     "output_type": "execute_result"
    }
   ],
   "source": [
    "# Beispiel Mittelwert\n",
    "# function mean() returns the mean of the values over the requested axis\n",
    "df['Total Checkouts'].mean()"
   ]
  },
  {
   "cell_type": "code",
   "execution_count": 4,
   "id": "90a59c51-ecb5-443a-8ec6-359ecac6dd6c",
   "metadata": {},
   "outputs": [
    {
     "data": {
      "text/plain": [
       "7.0"
      ]
     },
     "execution_count": 4,
     "metadata": {},
     "output_type": "execute_result"
    }
   ],
   "source": [
    "# Beispiel Median\n",
    "# function median() returns the median of the values over the requested axis\n",
    "df['Total Checkouts'].median()"
   ]
  },
  {
   "cell_type": "markdown",
   "id": "17fb3c34-ac96-4e99-ba0d-0c4853a617e0",
   "metadata": {},
   "source": [
    "##### Aufgabe 3.2 \n",
    "Schau Dir den Mittelwert und den Median der Variable Total Checkouts an. \n",
    "Warum sind die beiden Werte so unterschiedlich?\n",
    "Was ziehst Du daraus für Schlüsse für weitere statistische Analysen und Reports?"
   ]
  },
  {
   "cell_type": "code",
   "execution_count": null,
   "id": "dec449ff-af67-4083-90e7-ccbbc3f4da74",
   "metadata": {},
   "outputs": [],
   "source": [
    "Zur Berechnung des Medians werden zuerst alle Werte in der Spalte \"Total Checkouts\" in aufsteigender Reihenfolge geordnet.\n",
    "Danach wird den Wert bestimmt, der die Series genau in zwei Teilen teilt. \n",
    "Hat die Series eine gerade Anzahl von Beobachtungen/Ausprägungen, werden dann die zwei Werte, die die Series genau in zwei Teilen teilt, \n",
    "addiert und durch 2 geteilt. Das Ergebnis ist der Median. \n",
    "Der Median sagt aus, welcher Wert genau in der Mitte einer Datenreihe liegt. \n",
    "\n",
    "Zur Berechnung des Mittelwerts werden die einzelen Ausprägungen mit der Anzahl deren Vorkommens multipliziert und durch die Anzahl \n",
    "der Beobachtungen geteilt. Das Ergebnis ist der Mittelwert.\n",
    "    \n",
    "Für statistische Analyse und Reports ist der Mittelwert aussagekräftig. \n",
    "Im Fall der Gesamtausleihen sagt der Mittelwert aus, dass im Durchschnitt 155 Medien ausgeliehen wurden."
   ]
  }
 ],
 "metadata": {
  "kernelspec": {
   "display_name": "Python 3 (ipykernel)",
   "language": "python",
   "name": "python3"
  },
  "language_info": {
   "codemirror_mode": {
    "name": "ipython",
    "version": 3
   },
   "file_extension": ".py",
   "mimetype": "text/x-python",
   "name": "python",
   "nbconvert_exporter": "python",
   "pygments_lexer": "ipython3",
   "version": "3.13.1"
  }
 },
 "nbformat": 4,
 "nbformat_minor": 5
}
