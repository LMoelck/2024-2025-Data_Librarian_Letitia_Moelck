{
 "cells": [
  {
   "cell_type": "code",
   "execution_count": 46,
   "id": "ba021490-6ae7-44e4-923e-706f4c0552f8",
   "metadata": {},
   "outputs": [],
   "source": [
    "import pandas as pd"
   ]
  },
  {
   "cell_type": "code",
   "execution_count": 47,
   "id": "d50c71b7-8f38-4415-926e-8c3fff83c751",
   "metadata": {},
   "outputs": [],
   "source": [
    "df = pd.read_csv('../data/Library_Usage.csv', na_values=\"Null\", low_memory=False)"
   ]
  },
  {
   "cell_type": "code",
   "execution_count": 48,
   "id": "0eaf6544-8235-48c3-9bac-40b762d535cd",
   "metadata": {
    "collapsed": true,
    "jupyter": {
     "outputs_hidden": true
    },
    "scrolled": true
   },
   "outputs": [
    {
     "data": {
      "text/plain": [
       "Index(['Patron Type Definition', 'Total Checkouts', 'Total Renewals',\n",
       "       'Age Range', 'Home Library Definition', 'Circulation Active Month',\n",
       "       'Circulation Active Year', 'Notice Preference Definition',\n",
       "       'Provided Email Address', 'Year Patron Registered',\n",
       "       'Within San Francisco County'],\n",
       "      dtype='object')"
      ]
     },
     "execution_count": 48,
     "metadata": {},
     "output_type": "execute_result"
    }
   ],
   "source": [
    "df.columns"
   ]
  },
  {
   "cell_type": "code",
   "execution_count": 49,
   "id": "a6102a64-1d07-4de0-9579-7affa4f9cb38",
   "metadata": {
    "scrolled": true
   },
   "outputs": [
    {
     "data": {
      "text/plain": [
       "Age Range\n",
       "25 to 34 years       95278\n",
       "35 to 44 years       85669\n",
       "10 to 19 years       67758\n",
       "45 to 54 years       49820\n",
       "0 to 9 years         33180\n",
       "65 to 74 years       32455\n",
       "20 to 24 years       27145\n",
       "75 years and over    20721\n",
       "55 to 59 years       19735\n",
       "60 to 64 years       18088\n",
       "Name: count, dtype: int64"
      ]
     },
     "execution_count": 49,
     "metadata": {},
     "output_type": "execute_result"
    }
   ],
   "source": [
    "# für jede Ausprägung die Anzahl der Beobachtungen zählen\n",
    "# value_counts() returns a Series containing the frequency of each distinct row in the Dataframe \n",
    "# absolute Häufigkeitstabelle\n",
    "df['Age Range'].value_counts()"
   ]
  },
  {
   "cell_type": "code",
   "execution_count": 50,
   "id": "73f8384e-a708-48ef-a393-6aa14fe59d2a",
   "metadata": {
    "scrolled": true
   },
   "outputs": [
    {
     "data": {
      "text/plain": [
       "Age Range\n",
       "25 to 34 years       0.211800\n",
       "35 to 44 years       0.190439\n",
       "10 to 19 years       0.150624\n",
       "45 to 54 years       0.110748\n",
       "0 to 9 years         0.073758\n",
       "65 to 74 years       0.072146\n",
       "20 to 24 years       0.060342\n",
       "75 years and over    0.046062\n",
       "55 to 59 years       0.043870\n",
       "60 to 64 years       0.040209\n",
       "Name: proportion, dtype: float64"
      ]
     },
     "execution_count": 50,
     "metadata": {},
     "output_type": "execute_result"
    }
   ],
   "source": [
    "# mit dem zusätzlichen Argumentaufruf normalize=True werden relative Häufigkeiten berechnet\n",
    "# parameter normalize return proportions rather than frequencies\n",
    "df['Age Range'].value_counts(normalize=True)"
   ]
  },
  {
   "cell_type": "code",
   "execution_count": 51,
   "id": "d65f4c26-8fe1-410e-bfa1-4cadec542ce0",
   "metadata": {},
   "outputs": [],
   "source": [
    "# Der Modus sind die Merkmalsausprägungen, die die meisten Beobachtungen besitzen\n",
    "# funtion mode(): Get the mode(s) of each element along the selected axis\n",
    "# The mode of a set of values is the value that appears most often. It can be multiple values\n",
    "age_mode = df['Age Range'].mode()"
   ]
  },
  {
   "cell_type": "code",
   "execution_count": 52,
   "id": "a869f490-4cfa-487c-af76-3182822bae68",
   "metadata": {},
   "outputs": [
    {
     "data": {
      "text/plain": [
       "'25 to 34 years'"
      ]
     },
     "execution_count": 52,
     "metadata": {},
     "output_type": "execute_result"
    }
   ],
   "source": [
    "age_mode[0]"
   ]
  },
  {
   "cell_type": "markdown",
   "id": "141f44ad-dbbd-4aa3-a344-fa662e58bf65",
   "metadata": {},
   "source": [
    "##### Aufgabe 3.1 Häufigkeiten"
   ]
  },
  {
   "cell_type": "markdown",
   "id": "fb7810e1-dfbe-4017-b203-248698af68e7",
   "metadata": {},
   "source": [
    "1. Erstelle eine Häufigkeitsverteilung für die Variable 'Year Patron Registered'. \n",
    "Wieviel Prozent der Kunden wurden 2013 im System registriert? Wie viele in den kommenden Jahren? \n",
    "Was fällt Dir auf?"
   ]
  },
  {
   "cell_type": "code",
   "execution_count": 53,
   "id": "e6a574dd-77e7-4904-ad40-605eded3f3f4",
   "metadata": {},
   "outputs": [
    {
     "data": {
      "text/plain": [
       "array([2015, 2019, 2022, 2023, 2009, 2018, 2016, 2020, 2014, 2003, 2017,\n",
       "       2006, 2012, 2011, 2008, 2021, 2013, 2010, 2007, 2004, 2005])"
      ]
     },
     "execution_count": 53,
     "metadata": {},
     "output_type": "execute_result"
    }
   ],
   "source": [
    "df['Year Patron Registered'].unique()"
   ]
  },
  {
   "cell_type": "code",
   "execution_count": 54,
   "id": "9b1b27d4-7d32-423a-ae5e-afa83217cc1c",
   "metadata": {
    "collapsed": true,
    "jupyter": {
     "outputs_hidden": true
    },
    "scrolled": true
   },
   "outputs": [
    {
     "data": {
      "text/plain": [
       "Year Patron Registered\n",
       "2023    59742\n",
       "2022    51798\n",
       "2003    40049\n",
       "2021    32731\n",
       "2019    32652\n",
       "2020    29665\n",
       "2017    29055\n",
       "2018    28345\n",
       "2016    21670\n",
       "2015    19711\n",
       "2014    15275\n",
       "2013    12948\n",
       "2012    12430\n",
       "2011    12088\n",
       "2009    11070\n",
       "2010    10972\n",
       "2008     9775\n",
       "2007     6320\n",
       "2006     5090\n",
       "2005     4622\n",
       "2004     4351\n",
       "Name: count, dtype: int64"
      ]
     },
     "execution_count": 54,
     "metadata": {},
     "output_type": "execute_result"
    }
   ],
   "source": [
    "df['Year Patron Registered'].value_counts()"
   ]
  },
  {
   "cell_type": "code",
   "execution_count": 55,
   "id": "208bc1ed-1974-4543-bdb3-1226a3a726bc",
   "metadata": {
    "collapsed": true,
    "jupyter": {
     "outputs_hidden": true
    }
   },
   "outputs": [
    {
     "data": {
      "text/plain": [
       "Year Patron Registered\n",
       "2023    0.132654\n",
       "2022    0.115015\n",
       "2003    0.088927\n",
       "2021    0.072678\n",
       "2019    0.072502\n",
       "2020    0.065870\n",
       "2017    0.064515\n",
       "2018    0.062939\n",
       "2016    0.048117\n",
       "2015    0.043767\n",
       "2014    0.033917\n",
       "2013    0.028750\n",
       "2012    0.027600\n",
       "2011    0.026841\n",
       "2009    0.024580\n",
       "2010    0.024363\n",
       "2008    0.021705\n",
       "2007    0.014033\n",
       "2006    0.011302\n",
       "2005    0.010263\n",
       "2004    0.009661\n",
       "Name: proportion, dtype: float64"
      ]
     },
     "execution_count": 55,
     "metadata": {},
     "output_type": "execute_result"
    }
   ],
   "source": [
    "df['Year Patron Registered'].value_counts(normalize=True)"
   ]
  },
  {
   "cell_type": "markdown",
   "id": "ee41dfe7-0803-42e2-8cc7-24a55f8195be",
   "metadata": {},
   "source": [
    "Im Jahr 2013 wurden 0,028 Prozent der Kunden im System registriert.\n",
    "In den Jahren danach stieg die Anzahl der Neukunden stets: \n",
    "2014: 0.033   2015: 0.043  2016: 0.048   2017: 0.064  2018: 0.062\n",
    "2019: 0.072   2020: 0.065  2021: 0.072   2022: 0.115  2023: 0.132\n",
    "\n",
    "Die meisten Kunden wurden in den Jahren 2003 (0.0889), 2022 (0.115) und 2023 (0.132) im System registriert."
   ]
  },
  {
   "cell_type": "markdown",
   "id": "0afa18cb-7506-4d82-b373-33c4523221e2",
   "metadata": {},
   "source": [
    "2. Wieviel Prozent der Kunden sind zwischen 25 und 34 Jahren?"
   ]
  },
  {
   "cell_type": "code",
   "execution_count": 56,
   "id": "5203e70b-98db-49de-a36b-a728fbf20a04",
   "metadata": {
    "collapsed": true,
    "jupyter": {
     "outputs_hidden": true
    }
   },
   "outputs": [
    {
     "data": {
      "text/plain": [
       "Age Range\n",
       "25 to 34 years       0.211800\n",
       "35 to 44 years       0.190439\n",
       "10 to 19 years       0.150624\n",
       "45 to 54 years       0.110748\n",
       "0 to 9 years         0.073758\n",
       "65 to 74 years       0.072146\n",
       "20 to 24 years       0.060342\n",
       "75 years and over    0.046062\n",
       "55 to 59 years       0.043870\n",
       "60 to 64 years       0.040209\n",
       "Name: proportion, dtype: float64"
      ]
     },
     "execution_count": 56,
     "metadata": {},
     "output_type": "execute_result"
    }
   ],
   "source": [
    "df['Age Range'].value_counts(normalize=True)"
   ]
  },
  {
   "cell_type": "markdown",
   "id": "f7255771-6548-4afe-82d4-1858073409a3",
   "metadata": {},
   "source": [
    "0.211 Prozent der Kunden gehören zur Alterkategorie \"25 to 34 years\""
   ]
  },
  {
   "cell_type": "markdown",
   "id": "9835396c-bd54-4a0c-9f12-2a2bf08d18ec",
   "metadata": {},
   "source": [
    "3. Ersetze die fehlenden Werte in der Spalte Age Range durch den Modus dieser Spalte.\n",
    "   Nutze dazu die Funktion DataFrame.fillna"
   ]
  },
  {
   "cell_type": "code",
   "execution_count": 57,
   "id": "a5e262f2-1d06-4ab1-a667-b349aa27e6b3",
   "metadata": {
    "collapsed": true,
    "jupyter": {
     "outputs_hidden": true
    }
   },
   "outputs": [
    {
     "data": {
      "text/plain": [
       "array(['75 years and over', '45 to 54 years', '55 to 59 years',\n",
       "       '20 to 24 years', '65 to 74 years', '10 to 19 years',\n",
       "       '25 to 34 years', '60 to 64 years', '35 to 44 years',\n",
       "       '0 to 9 years', nan], dtype=object)"
      ]
     },
     "execution_count": 57,
     "metadata": {},
     "output_type": "execute_result"
    }
   ],
   "source": [
    "df['Age Range'].unique()"
   ]
  },
  {
   "cell_type": "code",
   "execution_count": 58,
   "id": "c85141db-863e-48ca-b6d8-610acfa67a66",
   "metadata": {},
   "outputs": [],
   "source": [
    "age_mode = df['Age Range'].mode()"
   ]
  },
  {
   "cell_type": "code",
   "execution_count": 59,
   "id": "cedb4835-c0e0-4a69-87d6-4b4bbee60aae",
   "metadata": {},
   "outputs": [
    {
     "data": {
      "text/plain": [
       "'25 to 34 years'"
      ]
     },
     "execution_count": 59,
     "metadata": {},
     "output_type": "execute_result"
    }
   ],
   "source": [
    "age_mode[0]"
   ]
  },
  {
   "cell_type": "code",
   "execution_count": 60,
   "id": "12c6e107-39f9-4253-bf49-d3675c4f28a0",
   "metadata": {
    "collapsed": true,
    "jupyter": {
     "outputs_hidden": true
    }
   },
   "outputs": [
    {
     "data": {
      "text/plain": [
       "0         75 years and over\n",
       "1            45 to 54 years\n",
       "2            55 to 59 years\n",
       "3            20 to 24 years\n",
       "4            65 to 74 years\n",
       "                ...        \n",
       "450354       35 to 44 years\n",
       "450355       45 to 54 years\n",
       "450356       25 to 34 years\n",
       "450357       35 to 44 years\n",
       "450358       65 to 74 years\n",
       "Name: Age Range, Length: 450359, dtype: object"
      ]
     },
     "execution_count": 60,
     "metadata": {},
     "output_type": "execute_result"
    }
   ],
   "source": [
    "df['Age Range'].fillna('25 to 34 years')"
   ]
  },
  {
   "cell_type": "code",
   "execution_count": 61,
   "id": "59e809d3-90cb-4239-96fe-33ed0d3bcb00",
   "metadata": {},
   "outputs": [],
   "source": [
    "df['Age Range'] = df['Age Range'].fillna('25 to 34 years')"
   ]
  },
  {
   "cell_type": "code",
   "execution_count": 62,
   "id": "ba046a31-dd41-429d-97e5-fdac6851f9a0",
   "metadata": {
    "collapsed": true,
    "jupyter": {
     "outputs_hidden": true
    },
    "scrolled": true
   },
   "outputs": [
    {
     "data": {
      "text/plain": [
       "array(['75 years and over', '45 to 54 years', '55 to 59 years',\n",
       "       '20 to 24 years', '65 to 74 years', '10 to 19 years',\n",
       "       '25 to 34 years', '60 to 64 years', '35 to 44 years',\n",
       "       '0 to 9 years'], dtype=object)"
      ]
     },
     "execution_count": 62,
     "metadata": {},
     "output_type": "execute_result"
    }
   ],
   "source": [
    "df['Age Range'].unique()"
   ]
  },
  {
   "cell_type": "markdown",
   "id": "65e9f7c1-5fc0-4969-96f6-f2f21abdca9e",
   "metadata": {},
   "source": [
    "4. Denkst Du, es handelt sich dabei um eine gute Methode, fehlende Werte zu ersetzen? Welche anderen Strategien fallen Dir ein?"
   ]
  },
  {
   "cell_type": "markdown",
   "id": "f7667e2c-907a-4ee6-a771-48d68b0215c0",
   "metadata": {},
   "source": [
    "Variante 1: Bereits beim Einlesen die Kodierung für fehlende Werte mit angeben (in diesem Fall: NaN)\n",
    "Variante 2: Nach dem Einlesen des Datensets eine explizite Umwandlung des Datentyps durchführen.\n",
    "Aber: Bei Nan handelt es sich um einen speziellen Gleitkommawert, der nicht in einen anderen Typ als Float konvertiert werden kann. \n",
    "Die Werte in der Spalte \"Age Range\" können nicht in einen numerischen Datentyp umgewandet werden, da sie Altersintervalle darstellen.  nicht \n",
    "Der NaN-Wert ist eines der größten Probleme bei der Datenanalyse . Um die gewünschten Ergebnisse zu erzielen, ist es sehr wichtig, mit NaN umzugehen. "
   ]
  }
 ],
 "metadata": {
  "kernelspec": {
   "display_name": "Python 3 (ipykernel)",
   "language": "python",
   "name": "python3"
  },
  "language_info": {
   "codemirror_mode": {
    "name": "ipython",
    "version": 3
   },
   "file_extension": ".py",
   "mimetype": "text/x-python",
   "name": "python",
   "nbconvert_exporter": "python",
   "pygments_lexer": "ipython3",
   "version": "3.13.1"
  }
 },
 "nbformat": 4,
 "nbformat_minor": 5
}
