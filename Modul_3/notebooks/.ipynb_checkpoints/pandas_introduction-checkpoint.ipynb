{
 "cells": [
  {
   "cell_type": "code",
   "execution_count": 1,
   "id": "e91c9548",
   "metadata": {},
   "outputs": [],
   "source": [
    "import pandas as pd"
   ]
  },
  {
   "cell_type": "code",
   "execution_count": 2,
   "id": "77451c65-b10f-4171-b403-3f359b5996d3",
   "metadata": {},
   "outputs": [],
   "source": [
    "data = {'month': ['Jan', 'Feb', 'Mar'],\n",
    "        'temp': [-5, 2, 3],\n",
    "         'below_zero': [True, False, False]}"
   ]
  },
  {
   "cell_type": "code",
   "execution_count": 3,
   "id": "4d7ea934-2aea-4f33-a153-a717cc16d02d",
   "metadata": {},
   "outputs": [],
   "source": [
    "df = pd.DataFrame(data)"
   ]
  },
  {
   "cell_type": "code",
   "execution_count": 4,
   "id": "28b1d991-2790-48bd-8c69-2639253c7c41",
   "metadata": {},
   "outputs": [
    {
     "name": "stdout",
     "output_type": "stream",
     "text": [
      "  month  temp  below_zero\n",
      "0   Jan    -5        True\n",
      "1   Feb     2       False\n",
      "2   Mar     3       False\n"
     ]
    }
   ],
   "source": [
    "print(df)"
   ]
  },
  {
   "cell_type": "markdown",
   "id": "83c711e5-e9ab-4d66-a8a7-b6f32b5c6276",
   "metadata": {},
   "source": [
    "##### Aufgabe 2.2\n",
    "- Welches Skalenniveau besitzen die Variablen im obigen Beispiel?\n",
    "month: nominalskaliert ; temp: intervallskaliert ; below_zero: ordinalskaliert\n",
    "\n",
    "- Sind die Variablen stetig oder diskret?\n",
    "month: diskret: temp: stetig ; below_zero: diskret"
   ]
  },
  {
   "cell_type": "code",
   "execution_count": 5,
   "id": "16efb449-97d1-4630-b533-65060cfbe106",
   "metadata": {},
   "outputs": [
    {
     "data": {
      "text/plain": [
       "month         object\n",
       "temp           int64\n",
       "below_zero      bool\n",
       "dtype: object"
      ]
     },
     "execution_count": 5,
     "metadata": {},
     "output_type": "execute_result"
    }
   ],
   "source": [
    "# Was ist der Datentyp jeder einzelnen Spalte?\n",
    "df.dtypes"
   ]
  },
  {
   "cell_type": "code",
   "execution_count": 6,
   "id": "513958c7-c6b8-434a-bd3b-9c7c3a2527ea",
   "metadata": {},
   "outputs": [],
   "source": [
    "# Erweitere das Python-Dictionary: Erstelle eine neue Zeile mit den Werten ('Apr', 5, False)\n",
    "df.loc[len(df)] = [\"Apr\", 5, False ]"
   ]
  },
  {
   "cell_type": "code",
   "execution_count": 7,
   "id": "2d6ad605-d0de-4920-92bb-99cd9379e6b4",
   "metadata": {},
   "outputs": [
    {
     "name": "stdout",
     "output_type": "stream",
     "text": [
      "  month  temp  below_zero\n",
      "0   Jan    -5        True\n",
      "1   Feb     2       False\n",
      "2   Mar     3       False\n",
      "3   Apr     5       False\n"
     ]
    }
   ],
   "source": [
    "print(df)"
   ]
  },
  {
   "cell_type": "code",
   "execution_count": 8,
   "id": "65ca34f4-b118-4b0e-bc06-b08bc01520d7",
   "metadata": {},
   "outputs": [],
   "source": [
    "df[\"year\"] = 2000"
   ]
  },
  {
   "cell_type": "code",
   "execution_count": 9,
   "id": "d43fe39d-5f93-4fb2-ab0f-7e7900eb5305",
   "metadata": {},
   "outputs": [
    {
     "data": {
      "text/html": [
       "<div>\n",
       "<style scoped>\n",
       "    .dataframe tbody tr th:only-of-type {\n",
       "        vertical-align: middle;\n",
       "    }\n",
       "\n",
       "    .dataframe tbody tr th {\n",
       "        vertical-align: top;\n",
       "    }\n",
       "\n",
       "    .dataframe thead th {\n",
       "        text-align: right;\n",
       "    }\n",
       "</style>\n",
       "<table border=\"1\" class=\"dataframe\">\n",
       "  <thead>\n",
       "    <tr style=\"text-align: right;\">\n",
       "      <th></th>\n",
       "      <th>month</th>\n",
       "      <th>temp</th>\n",
       "      <th>below_zero</th>\n",
       "      <th>year</th>\n",
       "    </tr>\n",
       "  </thead>\n",
       "  <tbody>\n",
       "    <tr>\n",
       "      <th>0</th>\n",
       "      <td>Jan</td>\n",
       "      <td>-5</td>\n",
       "      <td>True</td>\n",
       "      <td>2000</td>\n",
       "    </tr>\n",
       "    <tr>\n",
       "      <th>1</th>\n",
       "      <td>Feb</td>\n",
       "      <td>2</td>\n",
       "      <td>False</td>\n",
       "      <td>2000</td>\n",
       "    </tr>\n",
       "    <tr>\n",
       "      <th>2</th>\n",
       "      <td>Mar</td>\n",
       "      <td>3</td>\n",
       "      <td>False</td>\n",
       "      <td>2000</td>\n",
       "    </tr>\n",
       "    <tr>\n",
       "      <th>3</th>\n",
       "      <td>Apr</td>\n",
       "      <td>5</td>\n",
       "      <td>False</td>\n",
       "      <td>2000</td>\n",
       "    </tr>\n",
       "  </tbody>\n",
       "</table>\n",
       "</div>"
      ],
      "text/plain": [
       "  month  temp  below_zero  year\n",
       "0   Jan    -5        True  2000\n",
       "1   Feb     2       False  2000\n",
       "2   Mar     3       False  2000\n",
       "3   Apr     5       False  2000"
      ]
     },
     "execution_count": 9,
     "metadata": {},
     "output_type": "execute_result"
    }
   ],
   "source": [
    "df"
   ]
  },
  {
   "cell_type": "code",
   "execution_count": 10,
   "id": "1355fa2d-7392-4cfe-93eb-1b3161e96b32",
   "metadata": {},
   "outputs": [
    {
     "data": {
      "text/plain": [
       "month         object\n",
       "temp           int64\n",
       "below_zero      bool\n",
       "year           int64\n",
       "dtype: object"
      ]
     },
     "execution_count": 10,
     "metadata": {},
     "output_type": "execute_result"
    }
   ],
   "source": [
    "df.dtypes"
   ]
  },
  {
   "cell_type": "code",
   "execution_count": null,
   "id": "1d871221-a64e-4024-91ab-17b89f1764ee",
   "metadata": {},
   "outputs": [],
   "source": []
  }
 ],
 "metadata": {
  "kernelspec": {
   "display_name": "Python 3 (ipykernel)",
   "language": "python",
   "name": "python3"
  },
  "language_info": {
   "codemirror_mode": {
    "name": "ipython",
    "version": 3
   },
   "file_extension": ".py",
   "mimetype": "text/x-python",
   "name": "python",
   "nbconvert_exporter": "python",
   "pygments_lexer": "ipython3",
   "version": "3.12.7"
  }
 },
 "nbformat": 4,
 "nbformat_minor": 5
}
