{
 "cells": [
  {
   "cell_type": "markdown",
   "metadata": {},
   "source": [
    "# Jupyter Notebook Beispiel\n",
    "\n",
    "- Das hier ist eine Text-Zelle geschrieben in [Markdown](https://github.com/adam-p/markdown-here/wiki/Markdown-Cheatsheet).\n",
    "- Mit einem Doppelklick in die Zelle, kannst Du den Text bearbeiten.\n",
    "- Mit einem Klick auf den `Run` Button oder mit der Tastenkombination `Strg`+`Enter` kannst Du Code in Zellen ausführen oder Markdown Text rendern.\n",
    "- 1.Februar 2025, Letitia Mölck"
   ]
  },
  {
   "cell_type": "code",
   "execution_count": 1,
   "metadata": {},
   "outputs": [
    {
     "data": {
      "image/png": "[encoded data removed]",
      "text/plain": [
       "<Figure size 360x360 with 1 Axes>"
      ]
     },
     "metadata": {},
     "output_type": "display_data"
    }
   ],
   "source": [
    "# das hier ist eine Zelle mit Programmcode!\n",
    "\n",
    "# zuerst werden die benötgten libraries importiert\n",
    "import numpy as np\n",
    "import matplotlib.pyplot as plt\n",
    "import seaborn as sns\n",
    "\n",
    "# sns.set_theme() verschönert das Aussehen der plots\n",
    "sns.set_theme()\n",
    "\n",
    "# 100 normalverteilte Zahlen werden generiert\n",
    "random_numbers = np.random.normal(size = 100)\n",
    "\n",
    "# plot mit z.B. displot erstellen\n",
    "plot = sns.displot(random_numbers, color=\"red\")\n",
    "\n",
    "#Du kannst diese Programmcodezelle mehrmals ausführen und so werden \n",
    "#jedesmal unterschiedliche normalverteilte Zahlen generiert und entsprechend ändern sich die Plots."
   ]
  },
  {
   "cell_type": "code",
   "execution_count": 2,
   "metadata": {},
   "outputs": [
    {
     "data": {
      "text/plain": [
       "array([[ 1.54781063,  0.68909605,  0.13041505],\n",
       "       [ 0.55921848, -0.40292242,  0.21856499]])"
      ]
     },
     "execution_count": 2,
     "metadata": {},
     "output_type": "execute_result"
    }
   ],
   "source": [
    "# import the library and give it a shorter name 'np'\n",
    "import numpy as np\n",
    "\n",
    "# create 5 randomly distributed numbers\n",
    "X = np.random.normal(size=6)\n",
    "\n",
    "# transform X into a 2-dimensional array of size 2x3\n",
    "X.reshape((2, 3))"
   ]
  },
  {
   "cell_type": "code",
   "execution_count": 3,
   "metadata": {},
   "outputs": [
    {
     "data": {
      "text/plain": [
       "3.4104216424398386"
      ]
     },
     "execution_count": 3,
     "metadata": {},
     "output_type": "execute_result"
    }
   ],
   "source": [
    "# calculate the matrix dot product: X*X', where X' is the transpose of X\n",
    "X.dot(X.T)"
   ]
  },
  {
   "cell_type": "code",
   "execution_count": 1,
   "metadata": {},
   "outputs": [
    {
     "data": {
      "text/plain": [
       "sys.version_info(major=3, minor=12, micro=7, releaselevel='final', serial=0)"
      ]
     },
     "execution_count": 1,
     "metadata": {},
     "output_type": "execute_result"
    }
   ],
   "source": [
    "# Aufgabe 1.3\n",
    "# output of sys.version_info displays the Python version as a tuple in the format (major, minor, micro, release level, serial)\n",
    "# 3, 12, 7, 'final', 0 indicates Python 3.12.7.\n",
    "import sys\n",
    "sys.version_info"
   ]
  },
  {
   "cell_type": "code",
   "execution_count": null,
   "metadata": {},
   "outputs": [],
   "source": []
  }
 ],
 "metadata": {
  "kernelspec": {
   "display_name": "Python 3 (ipykernel)",
   "language": "python",
   "name": "python3"
  },
  "language_info": {
   "codemirror_mode": {
    "name": "ipython",
    "version": 3
   },
   "file_extension": ".py",
   "mimetype": "text/x-python",
   "name": "python",
   "nbconvert_exporter": "python",
   "pygments_lexer": "ipython3",
   "version": "3.12.7"
  }
 },
 "nbformat": 4,
 "nbformat_minor": 4
}
