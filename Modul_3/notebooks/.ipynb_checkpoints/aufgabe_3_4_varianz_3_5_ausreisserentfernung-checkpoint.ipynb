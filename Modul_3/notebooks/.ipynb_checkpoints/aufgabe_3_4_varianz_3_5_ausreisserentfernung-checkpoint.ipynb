{
 "cells": [
  {
   "cell_type": "markdown",
   "id": "8dd74383-9007-4a7a-bd01-1021c9c18c21",
   "metadata": {},
   "source": [
    "##### Streuungsmaße"
   ]
  },
  {
   "cell_type": "markdown",
   "id": "64db07d0-89cf-45be-8a2d-06368b93ef0e",
   "metadata": {},
   "source": [
    "Zentralität einer Verteilung (die durch Lagemaße beschrieben wird) ist nur eine wichtige Kennzahl. \n",
    "Streuungsmaße geben zusätzlich an, wie stark die Daten einer Messreihe schwanken. \n",
    "Die Streuung einer Variable ist entscheidend z.B. bei der Beurteilung mit welcher Wahrscheinlichkeit extreme Werte vorkommen können.\n",
    "Die bekanntesten Streuungsmaße sind die Varianz, die Standardabweichung und der Variantionskoeffizient."
   ]
  },
  {
   "cell_type": "markdown",
   "id": "65dd0f54-63c4-46a6-a59a-715a0a060957",
   "metadata": {},
   "source": [
    "##### Varianz"
   ]
  },
  {
   "cell_type": "markdown",
   "id": "24ec171b-d4e5-4a0c-802b-1b2b832300c8",
   "metadata": {},
   "source": [
    "Die Distanz einer Beobachtung vom Mittelwert der zugrundeliegenden Variable wird Abweichung genannt. \n",
    "Der Mittelwert über die quadrierten Abweichungen wird als Varianz definiert"
   ]
  },
  {
   "cell_type": "code",
   "execution_count": 1,
   "id": "46992e76-60c9-4238-aa8d-c7dc6ebcd681",
   "metadata": {},
   "outputs": [],
   "source": [
    "import pandas as pd"
   ]
  },
  {
   "cell_type": "code",
   "execution_count": 2,
   "id": "74e1c3bd-951e-460d-a939-99f2948834f2",
   "metadata": {},
   "outputs": [],
   "source": [
    "df = pd.read_csv(\"../data/Library_Usage.csv\",low_memory=False)"
   ]
  },
  {
   "cell_type": "code",
   "execution_count": 3,
   "id": "311bc1e1-962e-454b-9a53-edc600ca88d9",
   "metadata": {},
   "outputs": [
    {
     "data": {
      "text/plain": [
       "Index(['Patron Type Definition', 'Total Checkouts', 'Total Renewals',\n",
       "       'Age Range', 'Home Library Definition', 'Circulation Active Month',\n",
       "       'Circulation Active Year', 'Notice Preference Definition',\n",
       "       'Provided Email Address', 'Year Patron Registered',\n",
       "       'Within San Francisco County'],\n",
       "      dtype='object')"
      ]
     },
     "execution_count": 3,
     "metadata": {},
     "output_type": "execute_result"
    }
   ],
   "source": [
    "df.columns"
   ]
  },
  {
   "cell_type": "code",
   "execution_count": 4,
   "id": "8cd90f07-5ad5-4e07-8b53-244d6b6bb813",
   "metadata": {},
   "outputs": [
    {
     "data": {
      "text/plain": [
       "276931.23963427445"
      ]
     },
     "execution_count": 4,
     "metadata": {},
     "output_type": "execute_result"
    }
   ],
   "source": [
    "df['Total Checkouts'].var()"
   ]
  },
  {
   "cell_type": "markdown",
   "id": "763fc96b-b208-45a3-8567-dde07692cbad",
   "metadata": {},
   "source": [
    "##### Standardabweichung"
   ]
  },
  {
   "cell_type": "markdown",
   "id": "bd0562ec-bd14-431f-aa52-954bca934ccd",
   "metadata": {},
   "source": [
    "Die Standardabweichung ist die Wurzel der Varianz"
   ]
  },
  {
   "cell_type": "code",
   "execution_count": 9,
   "id": "f9a156a2-d205-4eb8-962d-019ee639db6a",
   "metadata": {},
   "outputs": [
    {
     "data": {
      "text/plain": [
       "526.2425672959899"
      ]
     },
     "execution_count": 9,
     "metadata": {},
     "output_type": "execute_result"
    }
   ],
   "source": [
    "# Standardabweichung Total Checkouts\n",
    "df['Total Checkouts'].std()"
   ]
  },
  {
   "cell_type": "markdown",
   "id": "32d7dc80-bcf0-4d27-9dd3-4e6d1dac6858",
   "metadata": {},
   "source": [
    "##### Variationskoeffizient"
   ]
  },
  {
   "cell_type": "markdown",
   "id": "f4a9852b-f019-4a5a-aae4-7fafad9a10f7",
   "metadata": {},
   "source": [
    "Möchte man die Streuung verschiedener Variablen vergleichen, macht es Sinn, eine normalisierte Größe, den Variationskoeffizienten zu betrachten."
   ]
  },
  {
   "cell_type": "markdown",
   "id": "2ed41f9e-116d-4639-9a0e-ffd863c4ead9",
   "metadata": {},
   "source": [
    "##### Aufgabe 3.4 - Varianz "
   ]
  },
  {
   "cell_type": "markdown",
   "id": "4d9346f2-da36-4944-8a71-1dca25fd86b4",
   "metadata": {},
   "source": [
    "Welche Variable streut mehr: 'Total Checkouts' oder 'Total Renewals'? \n",
    "Vergleiche die Standardabweichungen und den Variationskoeffizienten miteinander."
   ]
  },
  {
   "cell_type": "code",
   "execution_count": 10,
   "id": "551f1fdc-a1f2-4773-9c2a-ee58965795f6",
   "metadata": {},
   "outputs": [
    {
     "data": {
      "text/plain": [
       "305.91523273880455"
      ]
     },
     "execution_count": 10,
     "metadata": {},
     "output_type": "execute_result"
    }
   ],
   "source": [
    "# Standardabweichung Total Renewals\n",
    "df['Total Renewals'].std()"
   ]
  },
  {
   "cell_type": "code",
   "execution_count": 14,
   "id": "5a75621a-e546-446d-b587-673d029bc17f",
   "metadata": {},
   "outputs": [
    {
     "data": {
      "text/plain": [
       "np.float64(155.218052709061)"
      ]
     },
     "execution_count": 14,
     "metadata": {},
     "output_type": "execute_result"
    }
   ],
   "source": [
    "# Mittelwert Total Checkouts\n",
    "df['Total Checkouts'].mean()"
   ]
  },
  {
   "cell_type": "code",
   "execution_count": 15,
   "id": "b0438d2d-fa8d-47f4-8889-d49de57a0fff",
   "metadata": {},
   "outputs": [
    {
     "data": {
      "text/plain": [
       "np.float64(78.96892923201268)"
      ]
     },
     "execution_count": 15,
     "metadata": {},
     "output_type": "execute_result"
    }
   ],
   "source": [
    "# Mittelwert Total Renewals\n",
    "df['Total Renewals'].mean()"
   ]
  },
  {
   "cell_type": "code",
   "execution_count": 16,
   "id": "569f8b95-34ea-45c5-b0dc-15d9d45354e3",
   "metadata": {},
   "outputs": [],
   "source": [
    "# Variationskoeffizient Total Checkouts\n",
    "cv_checkouts = df['Total Checkouts'].std() / df['Total Checkouts'].mean()"
   ]
  },
  {
   "cell_type": "code",
   "execution_count": 17,
   "id": "08cdc6ad-1207-4805-9f02-8b0113f4c94f",
   "metadata": {},
   "outputs": [
    {
     "data": {
      "text/plain": [
       "np.float64(3.390343829930486)"
      ]
     },
     "execution_count": 17,
     "metadata": {},
     "output_type": "execute_result"
    }
   ],
   "source": [
    "cv_checkouts"
   ]
  },
  {
   "cell_type": "code",
   "execution_count": 18,
   "id": "00c1bda9-ed73-4f57-a1c2-294b510827b6",
   "metadata": {},
   "outputs": [],
   "source": [
    "# Variationskoeffizient Total Renewals\n",
    "cv_renewals = df['Total Renewals'].std() / df['Total Renewals'].mean()"
   ]
  },
  {
   "cell_type": "code",
   "execution_count": 19,
   "id": "d5ce89e6-a967-4c25-b894-92d39dccdfb3",
   "metadata": {},
   "outputs": [
    {
     "data": {
      "text/plain": [
       "np.float64(3.873868313954441)"
      ]
     },
     "execution_count": 19,
     "metadata": {},
     "output_type": "execute_result"
    }
   ],
   "source": [
    "cv_renewals"
   ]
  },
  {
   "cell_type": "markdown",
   "id": "cf5937d9-d8e5-4e62-b8a0-5b689dc73138",
   "metadata": {},
   "source": [
    "###### Standardabweichung Total Checkouts: 526.2425672959899\n",
    "###### Standardabweichung Total Renewals: 305.91523273880455\n",
    "###### Variationskoeffizient Total Checkouts: 3.390343829930486\n",
    "###### Variationskoeffizient Total Renewals: 3.873868313954441\n",
    "Die Variable \"Total Renewals\" streut stärker als \"Total Checkouts\""
   ]
  },
  {
   "cell_type": "markdown",
   "id": "382ba2b3-5c18-4b83-ad2c-e3e3e249d80f",
   "metadata": {},
   "source": [
    "##### Spannweite"
   ]
  },
  {
   "cell_type": "code",
   "execution_count": 20,
   "id": "24b05ee6-cc00-4f30-b566-da38c0ac6bdf",
   "metadata": {},
   "outputs": [
    {
     "data": {
      "text/plain": [
       "39743"
      ]
     },
     "execution_count": 20,
     "metadata": {},
     "output_type": "execute_result"
    }
   ],
   "source": [
    "# Spannweite ist die Differenz zwischen dem maximalen und minmalem Wert\n",
    "df['Total Checkouts'].max() - df['Total Checkouts'].min()"
   ]
  },
  {
   "cell_type": "markdown",
   "id": "a3a0c316-b2aa-46c5-beaf-fe87ccf3a144",
   "metadata": {},
   "source": [
    "##### Interquartilsabstand "
   ]
  },
  {
   "cell_type": "code",
   "execution_count": 21,
   "id": "bf30cb45-311c-4d72-bf54-837ef8a62fb4",
   "metadata": {},
   "outputs": [
    {
     "data": {
      "text/plain": [
       "np.float64(74.0)"
      ]
     },
     "execution_count": 21,
     "metadata": {},
     "output_type": "execute_result"
    }
   ],
   "source": [
    "# Interquartilsabstand ist ein robustes Streuungsmaß\n",
    "# Er ergibt sich aus der Differenz des 75%- zum 25%-Quantil: xIQR=x0.75−x0.25\n",
    "df['Total Checkouts'].quantile(q=0.75) - df['Total Checkouts'].quantile(q=0.25)"
   ]
  },
  {
   "cell_type": "markdown",
   "id": "13003b82-0393-4c77-b638-b14dea93a984",
   "metadata": {},
   "source": [
    "##### Aufgabe 3.5 Ausreißerentfernung II"
   ]
  },
  {
   "cell_type": "markdown",
   "id": "b2e73e97-88d4-4881-8bc3-62d6f5fae54a",
   "metadata": {},
   "source": [
    "1. Identifiziere positive Ausreißer in der Spalte Total Checkouts. Ausreißer werden jetzt als Beobachtungen xi\n",
    " definiert, für die gilt:\n",
    "xi > x0.75 + 1.5xIQR\n",
    "Das heißt, eine Beobachtung gilt als Ausreißer, wenn sie größer als die Summe aus dem 75% Quantil und dem 1.5-fachen des Interquartilsabstands ist."
   ]
  },
  {
   "cell_type": "code",
   "execution_count": 31,
   "id": "60894428-342d-4911-8d8d-df2eb1562b45",
   "metadata": {},
   "outputs": [
    {
     "data": {
      "text/plain": [
       "np.float64(74.0)"
      ]
     },
     "execution_count": 31,
     "metadata": {},
     "output_type": "execute_result"
    }
   ],
   "source": [
    "# 75% Quantil für Total Checkouts\n",
    "df['Total Checkouts'].quantile(q=0.75)"
   ]
  },
  {
   "cell_type": "code",
   "execution_count": 32,
   "id": "dd3507cf-a292-4836-8401-d787d6a4ea53",
   "metadata": {},
   "outputs": [
    {
     "data": {
      "text/plain": [
       "np.float64(74.0)"
      ]
     },
     "execution_count": 32,
     "metadata": {},
     "output_type": "execute_result"
    }
   ],
   "source": [
    "# Interquartilsabstand für Total Checkouts\n",
    "df['Total Checkouts'].quantile(q=0.75) - df['Total Checkouts'].quantile(q=0.25)"
   ]
  },
  {
   "cell_type": "code",
   "execution_count": 33,
   "id": "ae0c57f7-3617-402a-b606-7c92d897a3f0",
   "metadata": {},
   "outputs": [
    {
     "data": {
      "text/plain": [
       "np.float64(111.0)"
      ]
     },
     "execution_count": 33,
     "metadata": {},
     "output_type": "execute_result"
    }
   ],
   "source": [
    "# Berechnung 1.5-fach des Interquartilsabstands\n",
    "(df['Total Checkouts'].quantile(q=0.75) - df['Total Checkouts'].quantile(q=0.25)) * 1.5"
   ]
  },
  {
   "cell_type": "code",
   "execution_count": 34,
   "id": "b50e6c48-7ad8-481f-bc0f-ae26daa25ab4",
   "metadata": {},
   "outputs": [],
   "source": [
    "# Berechnung Summe aus dem 75% Quantil und dem 1.5-fachen des Interquartilsabstands\n",
    "ausreisser = df['Total Checkouts'].quantile(q=0.75) + ((df['Total Checkouts'].quantile(q=0.75) - df['Total Checkouts'].quantile(q=0.25)) * 1.5)"
   ]
  },
  {
   "cell_type": "code",
   "execution_count": 35,
   "id": "8a7472f9-a744-4ef0-ac0d-1235c2852bdd",
   "metadata": {},
   "outputs": [
    {
     "data": {
      "text/plain": [
       "np.float64(185.0)"
      ]
     },
     "execution_count": 35,
     "metadata": {},
     "output_type": "execute_result"
    }
   ],
   "source": [
    "ausreisser"
   ]
  },
  {
   "cell_type": "markdown",
   "id": "00d77d24-d7be-424f-838a-6907223872e3",
   "metadata": {},
   "source": [
    "2. Wie viel Prozent der Beobachtungen im Datensatz werden mit dieser Methode als Ausreißer markiert?"
   ]
  },
  {
   "cell_type": "code",
   "execution_count": 36,
   "id": "be3049c0-2166-4361-ae62-27fd7d36e0c2",
   "metadata": {},
   "outputs": [],
   "source": [
    "df_ausreisser = df.loc[df['Total Checkouts'] > ausreisser]"
   ]
  },
  {
   "cell_type": "code",
   "execution_count": 37,
   "id": "902884c9-7a75-4fdb-9944-df326f5c8306",
   "metadata": {
    "collapsed": true,
    "jupyter": {
     "outputs_hidden": true
    },
    "scrolled": true
   },
   "outputs": [
    {
     "data": {
      "text/html": [
       "<div>\n",
       "<style scoped>\n",
       "    .dataframe tbody tr th:only-of-type {\n",
       "        vertical-align: middle;\n",
       "    }\n",
       "\n",
       "    .dataframe tbody tr th {\n",
       "        vertical-align: top;\n",
       "    }\n",
       "\n",
       "    .dataframe thead th {\n",
       "        text-align: right;\n",
       "    }\n",
       "</style>\n",
       "<table border=\"1\" class=\"dataframe\">\n",
       "  <thead>\n",
       "    <tr style=\"text-align: right;\">\n",
       "      <th></th>\n",
       "      <th>Patron Type Definition</th>\n",
       "      <th>Total Checkouts</th>\n",
       "      <th>Total Renewals</th>\n",
       "      <th>Age Range</th>\n",
       "      <th>Home Library Definition</th>\n",
       "      <th>Circulation Active Month</th>\n",
       "      <th>Circulation Active Year</th>\n",
       "      <th>Notice Preference Definition</th>\n",
       "      <th>Provided Email Address</th>\n",
       "      <th>Year Patron Registered</th>\n",
       "      <th>Within San Francisco County</th>\n",
       "    </tr>\n",
       "  </thead>\n",
       "  <tbody>\n",
       "    <tr>\n",
       "      <th>24</th>\n",
       "      <td>Teacher Card</td>\n",
       "      <td>628</td>\n",
       "      <td>82</td>\n",
       "      <td>45 to 54 years</td>\n",
       "      <td>Mission</td>\n",
       "      <td>Mar</td>\n",
       "      <td>2024</td>\n",
       "      <td>Email</td>\n",
       "      <td>True</td>\n",
       "      <td>2014</td>\n",
       "      <td>False</td>\n",
       "    </tr>\n",
       "    <tr>\n",
       "      <th>25</th>\n",
       "      <td>Teacher Card</td>\n",
       "      <td>2005</td>\n",
       "      <td>1436</td>\n",
       "      <td>35 to 44 years</td>\n",
       "      <td>Glen Park</td>\n",
       "      <td>Mar</td>\n",
       "      <td>2024</td>\n",
       "      <td>Email</td>\n",
       "      <td>True</td>\n",
       "      <td>2003</td>\n",
       "      <td>False</td>\n",
       "    </tr>\n",
       "    <tr>\n",
       "      <th>43</th>\n",
       "      <td>Senior</td>\n",
       "      <td>375</td>\n",
       "      <td>1</td>\n",
       "      <td>65 to 74 years</td>\n",
       "      <td>Main</td>\n",
       "      <td>Jul</td>\n",
       "      <td>2023</td>\n",
       "      <td>Email</td>\n",
       "      <td>True</td>\n",
       "      <td>2003</td>\n",
       "      <td>False</td>\n",
       "    </tr>\n",
       "    <tr>\n",
       "      <th>46</th>\n",
       "      <td>Senior</td>\n",
       "      <td>535</td>\n",
       "      <td>338</td>\n",
       "      <td>65 to 74 years</td>\n",
       "      <td>Main</td>\n",
       "      <td>Mar</td>\n",
       "      <td>2024</td>\n",
       "      <td>Email</td>\n",
       "      <td>True</td>\n",
       "      <td>2003</td>\n",
       "      <td>False</td>\n",
       "    </tr>\n",
       "    <tr>\n",
       "      <th>60</th>\n",
       "      <td>Senior</td>\n",
       "      <td>279</td>\n",
       "      <td>232</td>\n",
       "      <td>65 to 74 years</td>\n",
       "      <td>Main</td>\n",
       "      <td>Mar</td>\n",
       "      <td>2024</td>\n",
       "      <td>Email</td>\n",
       "      <td>True</td>\n",
       "      <td>2003</td>\n",
       "      <td>False</td>\n",
       "    </tr>\n",
       "    <tr>\n",
       "      <th>...</th>\n",
       "      <td>...</td>\n",
       "      <td>...</td>\n",
       "      <td>...</td>\n",
       "      <td>...</td>\n",
       "      <td>...</td>\n",
       "      <td>...</td>\n",
       "      <td>...</td>\n",
       "      <td>...</td>\n",
       "      <td>...</td>\n",
       "      <td>...</td>\n",
       "      <td>...</td>\n",
       "    </tr>\n",
       "    <tr>\n",
       "      <th>450176</th>\n",
       "      <td>Adult</td>\n",
       "      <td>1290</td>\n",
       "      <td>112</td>\n",
       "      <td>20 to 24 years</td>\n",
       "      <td>Mission</td>\n",
       "      <td>Dec</td>\n",
       "      <td>2022</td>\n",
       "      <td>Phone</td>\n",
       "      <td>False</td>\n",
       "      <td>2003</td>\n",
       "      <td>Null</td>\n",
       "    </tr>\n",
       "    <tr>\n",
       "      <th>450179</th>\n",
       "      <td>Adult</td>\n",
       "      <td>976</td>\n",
       "      <td>1463</td>\n",
       "      <td>45 to 54 years</td>\n",
       "      <td>Bernal Heights</td>\n",
       "      <td>Apr</td>\n",
       "      <td>2021</td>\n",
       "      <td>Print</td>\n",
       "      <td>False</td>\n",
       "      <td>2008</td>\n",
       "      <td>Null</td>\n",
       "    </tr>\n",
       "    <tr>\n",
       "      <th>450189</th>\n",
       "      <td>Adult</td>\n",
       "      <td>427</td>\n",
       "      <td>115</td>\n",
       "      <td>35 to 44 years</td>\n",
       "      <td>Bayview</td>\n",
       "      <td>Jun</td>\n",
       "      <td>2021</td>\n",
       "      <td>Phone</td>\n",
       "      <td>False</td>\n",
       "      <td>2008</td>\n",
       "      <td>Null</td>\n",
       "    </tr>\n",
       "    <tr>\n",
       "      <th>450256</th>\n",
       "      <td>Teen</td>\n",
       "      <td>1288</td>\n",
       "      <td>109</td>\n",
       "      <td>10 to 19 years</td>\n",
       "      <td>Richmond</td>\n",
       "      <td>Aug</td>\n",
       "      <td>2023</td>\n",
       "      <td>Email</td>\n",
       "      <td>True</td>\n",
       "      <td>2009</td>\n",
       "      <td>Null</td>\n",
       "    </tr>\n",
       "    <tr>\n",
       "      <th>450289</th>\n",
       "      <td>Digital Access Card</td>\n",
       "      <td>270</td>\n",
       "      <td>430</td>\n",
       "      <td>Null</td>\n",
       "      <td>Main</td>\n",
       "      <td>Feb</td>\n",
       "      <td>2024</td>\n",
       "      <td>Email</td>\n",
       "      <td>True</td>\n",
       "      <td>2017</td>\n",
       "      <td>Null</td>\n",
       "    </tr>\n",
       "  </tbody>\n",
       "</table>\n",
       "<p>72206 rows × 11 columns</p>\n",
       "</div>"
      ],
      "text/plain": [
       "       Patron Type Definition  Total Checkouts  Total Renewals  \\\n",
       "24               Teacher Card              628              82   \n",
       "25               Teacher Card             2005            1436   \n",
       "43                     Senior              375               1   \n",
       "46                     Senior              535             338   \n",
       "60                     Senior              279             232   \n",
       "...                       ...              ...             ...   \n",
       "450176                  Adult             1290             112   \n",
       "450179                  Adult              976            1463   \n",
       "450189                  Adult              427             115   \n",
       "450256                   Teen             1288             109   \n",
       "450289    Digital Access Card              270             430   \n",
       "\n",
       "             Age Range Home Library Definition Circulation Active Month  \\\n",
       "24      45 to 54 years                 Mission                      Mar   \n",
       "25      35 to 44 years               Glen Park                      Mar   \n",
       "43      65 to 74 years                    Main                      Jul   \n",
       "46      65 to 74 years                    Main                      Mar   \n",
       "60      65 to 74 years                    Main                      Mar   \n",
       "...                ...                     ...                      ...   \n",
       "450176  20 to 24 years                 Mission                      Dec   \n",
       "450179  45 to 54 years          Bernal Heights                      Apr   \n",
       "450189  35 to 44 years                 Bayview                      Jun   \n",
       "450256  10 to 19 years                Richmond                      Aug   \n",
       "450289            Null                    Main                      Feb   \n",
       "\n",
       "       Circulation Active Year Notice Preference Definition  \\\n",
       "24                        2024                        Email   \n",
       "25                        2024                        Email   \n",
       "43                        2023                        Email   \n",
       "46                        2024                        Email   \n",
       "60                        2024                        Email   \n",
       "...                        ...                          ...   \n",
       "450176                    2022                        Phone   \n",
       "450179                    2021                        Print   \n",
       "450189                    2021                        Phone   \n",
       "450256                    2023                        Email   \n",
       "450289                    2024                        Email   \n",
       "\n",
       "        Provided Email Address  Year Patron Registered  \\\n",
       "24                        True                    2014   \n",
       "25                        True                    2003   \n",
       "43                        True                    2003   \n",
       "46                        True                    2003   \n",
       "60                        True                    2003   \n",
       "...                        ...                     ...   \n",
       "450176                   False                    2003   \n",
       "450179                   False                    2008   \n",
       "450189                   False                    2008   \n",
       "450256                    True                    2009   \n",
       "450289                    True                    2017   \n",
       "\n",
       "       Within San Francisco County  \n",
       "24                           False  \n",
       "25                           False  \n",
       "43                           False  \n",
       "46                           False  \n",
       "60                           False  \n",
       "...                            ...  \n",
       "450176                        Null  \n",
       "450179                        Null  \n",
       "450189                        Null  \n",
       "450256                        Null  \n",
       "450289                        Null  \n",
       "\n",
       "[72206 rows x 11 columns]"
      ]
     },
     "execution_count": 37,
     "metadata": {},
     "output_type": "execute_result"
    }
   ],
   "source": [
    "df_ausreisser"
   ]
  },
  {
   "cell_type": "code",
   "execution_count": 39,
   "id": "2ada70d5-f69d-4ba2-8187-0d6134a187bf",
   "metadata": {},
   "outputs": [
    {
     "data": {
      "text/plain": [
       "450359"
      ]
     },
     "execution_count": 39,
     "metadata": {},
     "output_type": "execute_result"
    }
   ],
   "source": [
    "len(df['Total Checkouts'])"
   ]
  },
  {
   "cell_type": "code",
   "execution_count": 40,
   "id": "a389fe67-2619-42b0-93bd-11cc9acf5178",
   "metadata": {},
   "outputs": [
    {
     "data": {
      "text/plain": [
       "72206"
      ]
     },
     "execution_count": 40,
     "metadata": {},
     "output_type": "execute_result"
    }
   ],
   "source": [
    "len(df_ausreisser)"
   ]
  },
  {
   "cell_type": "code",
   "execution_count": 42,
   "id": "23962383-d36b-4f7e-a662-055f9be70727",
   "metadata": {},
   "outputs": [
    {
     "data": {
      "text/plain": [
       "0.16032987017024197"
      ]
     },
     "execution_count": 42,
     "metadata": {},
     "output_type": "execute_result"
    }
   ],
   "source": [
    "# Prozent der Beobachtungen, die als Ausreißer gelten\n",
    "len(df_ausreisser) / len(df['Total Checkouts'])"
   ]
  }
 ],
 "metadata": {
  "kernelspec": {
   "display_name": "Python 3 (ipykernel)",
   "language": "python",
   "name": "python3"
  },
  "language_info": {
   "codemirror_mode": {
    "name": "ipython",
    "version": 3
   },
   "file_extension": ".py",
   "mimetype": "text/x-python",
   "name": "python",
   "nbconvert_exporter": "python",
   "pygments_lexer": "ipython3",
   "version": "3.13.1"
  }
 },
 "nbformat": 4,
 "nbformat_minor": 5
}
