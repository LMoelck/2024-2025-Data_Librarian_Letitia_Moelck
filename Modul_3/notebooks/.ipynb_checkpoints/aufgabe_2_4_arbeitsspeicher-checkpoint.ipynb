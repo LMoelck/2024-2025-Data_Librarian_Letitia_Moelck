{
 "cells": [
  {
   "cell_type": "markdown",
   "id": "54200323-16f9-4442-bf69-996cbabad2d2",
   "metadata": {},
   "source": [
    "Wie viel freier Arbeitsspeicher hat Dein Computer?"
   ]
  },
  {
   "cell_type": "markdown",
   "id": "944b8010-93ee-44fd-a2ac-b6d7f1d62b46",
   "metadata": {},
   "source": [
    "Installierter RAM: 16,0 GB (15,8 GB verwendbar)\n",
    "In Verwendung: 10,7 GB\n",
    "Verfügbar: 4,9 GB\n",
    "\n",
    "Das Kommando \"wmic memorychip get capacity\" in prompt zeigt die Speichergröße 8.589.934.592 in Bytes"
   ]
  },
  {
   "cell_type": "markdown",
   "id": "ca310368-949b-4d6d-90a8-51d31080446f",
   "metadata": {},
   "source": [
    "Wie viele int64 Werte, also Zahlen, die 8 Byte (=64 Bit) Speicher benötigen, können damit theoretisch in den Arbeitsspeicher laden werden?"
   ]
  },
  {
   "cell_type": "markdown",
   "id": "85236de7-fb4a-4b4b-939b-d2cd0a1345a0",
   "metadata": {},
   "source": [
    "8.589.934.592 Bytes / 8 Byte == 1073741824.0"
   ]
  },
  {
   "cell_type": "code",
   "execution_count": 2,
   "id": "338b8d1b-0bd7-4615-ab72-760c6d1e382c",
   "metadata": {},
   "outputs": [
    {
     "data": {
      "text/plain": [
       "1073741824.0"
      ]
     },
     "execution_count": 2,
     "metadata": {},
     "output_type": "execute_result"
    }
   ],
   "source": [
    "# 8589934592/8"
   ]
  },
  {
   "cell_type": "markdown",
   "id": "db049226-e85c-4ff3-a120-50c993547d79",
   "metadata": {},
   "source": [
    "Wie viele Beobachtungen kann eine Tabelle mit 100 numerischen Variablen damit maximal theoretisch haben, damit diese noch bearbeiten werden kann?"
   ]
  },
  {
   "cell_type": "markdown",
   "id": "d3a8e8f3-d3c5-4957-a4a9-c07ad6e62167",
   "metadata": {},
   "source": [
    "??"
   ]
  },
  {
   "cell_type": "code",
   "execution_count": 1,
   "id": "9c52b303-97b2-432d-bfa3-1b32bebcd18f",
   "metadata": {},
   "outputs": [],
   "source": [
    "import pandas as pd"
   ]
  },
  {
   "cell_type": "code",
   "execution_count": 2,
   "id": "9bcaad37-d934-429e-86b7-d29b4fff03a1",
   "metadata": {},
   "outputs": [],
   "source": [
    "df = pd.read_csv(\"../data/Library_Usage_Small_final.csv\")"
   ]
  },
  {
   "cell_type": "code",
   "execution_count": 3,
   "id": "2e4cb5cc-3898-4d68-a6a9-1f9811de433c",
   "metadata": {
    "collapsed": true,
    "jupyter": {
     "outputs_hidden": true
    },
    "scrolled": true
   },
   "outputs": [
    {
     "data": {
      "text/html": [
       "<div>\n",
       "<style scoped>\n",
       "    .dataframe tbody tr th:only-of-type {\n",
       "        vertical-align: middle;\n",
       "    }\n",
       "\n",
       "    .dataframe tbody tr th {\n",
       "        vertical-align: top;\n",
       "    }\n",
       "\n",
       "    .dataframe thead th {\n",
       "        text-align: right;\n",
       "    }\n",
       "</style>\n",
       "<table border=\"1\" class=\"dataframe\">\n",
       "  <thead>\n",
       "    <tr style=\"text-align: right;\">\n",
       "      <th></th>\n",
       "      <th>Unnamed: 0.3</th>\n",
       "      <th>Unnamed: 0.2</th>\n",
       "      <th>Unnamed: 0.1</th>\n",
       "      <th>Unnamed: 0</th>\n",
       "      <th>Patron Type Definition</th>\n",
       "      <th>Total Checkouts</th>\n",
       "      <th>Total Renewals</th>\n",
       "      <th>Age Range</th>\n",
       "      <th>Home Library Definition</th>\n",
       "      <th>Circulation Active Month</th>\n",
       "      <th>Circulation Active Year</th>\n",
       "      <th>Notice Preference Definition</th>\n",
       "      <th>Provided Email Address</th>\n",
       "      <th>Year Patron Registered</th>\n",
       "      <th>Within San Francisco County</th>\n",
       "    </tr>\n",
       "  </thead>\n",
       "  <tbody>\n",
       "    <tr>\n",
       "      <th>0</th>\n",
       "      <td>0</td>\n",
       "      <td>0</td>\n",
       "      <td>0</td>\n",
       "      <td>0</td>\n",
       "      <td>Senior</td>\n",
       "      <td>5</td>\n",
       "      <td>0</td>\n",
       "      <td>75 years and over</td>\n",
       "      <td>Main</td>\n",
       "      <td>Nov</td>\n",
       "      <td>2022</td>\n",
       "      <td>Email</td>\n",
       "      <td>True</td>\n",
       "      <td>2015</td>\n",
       "      <td>False</td>\n",
       "    </tr>\n",
       "    <tr>\n",
       "      <th>1</th>\n",
       "      <td>1</td>\n",
       "      <td>1</td>\n",
       "      <td>1</td>\n",
       "      <td>1</td>\n",
       "      <td>Adult</td>\n",
       "      <td>0</td>\n",
       "      <td>0</td>\n",
       "      <td>45 to 54 years</td>\n",
       "      <td>Main</td>\n",
       "      <td>Jul</td>\n",
       "      <td>2023</td>\n",
       "      <td>Email</td>\n",
       "      <td>True</td>\n",
       "      <td>2019</td>\n",
       "      <td>False</td>\n",
       "    </tr>\n",
       "    <tr>\n",
       "      <th>2</th>\n",
       "      <td>2</td>\n",
       "      <td>2</td>\n",
       "      <td>2</td>\n",
       "      <td>2</td>\n",
       "      <td>Adult</td>\n",
       "      <td>0</td>\n",
       "      <td>0</td>\n",
       "      <td>55 to 59 years</td>\n",
       "      <td>Western Addition</td>\n",
       "      <td>Mar</td>\n",
       "      <td>2024</td>\n",
       "      <td>Email</td>\n",
       "      <td>True</td>\n",
       "      <td>2022</td>\n",
       "      <td>False</td>\n",
       "    </tr>\n",
       "    <tr>\n",
       "      <th>3</th>\n",
       "      <td>3</td>\n",
       "      <td>3</td>\n",
       "      <td>3</td>\n",
       "      <td>3</td>\n",
       "      <td>Welcome</td>\n",
       "      <td>1</td>\n",
       "      <td>1</td>\n",
       "      <td>20 to 24 years</td>\n",
       "      <td>Richmond</td>\n",
       "      <td>Aug</td>\n",
       "      <td>2022</td>\n",
       "      <td>Email</td>\n",
       "      <td>True</td>\n",
       "      <td>2022</td>\n",
       "      <td>False</td>\n",
       "    </tr>\n",
       "    <tr>\n",
       "      <th>4</th>\n",
       "      <td>4</td>\n",
       "      <td>4</td>\n",
       "      <td>4</td>\n",
       "      <td>4</td>\n",
       "      <td>Senior</td>\n",
       "      <td>0</td>\n",
       "      <td>0</td>\n",
       "      <td>65 to 74 years</td>\n",
       "      <td>Sunset</td>\n",
       "      <td>Mar</td>\n",
       "      <td>2024</td>\n",
       "      <td>Print</td>\n",
       "      <td>False</td>\n",
       "      <td>2023</td>\n",
       "      <td>False</td>\n",
       "    </tr>\n",
       "  </tbody>\n",
       "</table>\n",
       "</div>"
      ],
      "text/plain": [
       "   Unnamed: 0.3  Unnamed: 0.2  Unnamed: 0.1  Unnamed: 0  \\\n",
       "0             0             0             0           0   \n",
       "1             1             1             1           1   \n",
       "2             2             2             2           2   \n",
       "3             3             3             3           3   \n",
       "4             4             4             4           4   \n",
       "\n",
       "  Patron Type Definition  Total Checkouts  Total Renewals          Age Range  \\\n",
       "0                 Senior                5               0  75 years and over   \n",
       "1                  Adult                0               0     45 to 54 years   \n",
       "2                  Adult                0               0     55 to 59 years   \n",
       "3                Welcome                1               1     20 to 24 years   \n",
       "4                 Senior                0               0     65 to 74 years   \n",
       "\n",
       "  Home Library Definition Circulation Active Month  Circulation Active Year  \\\n",
       "0                    Main                      Nov                     2022   \n",
       "1                    Main                      Jul                     2023   \n",
       "2        Western Addition                      Mar                     2024   \n",
       "3                Richmond                      Aug                     2022   \n",
       "4                  Sunset                      Mar                     2024   \n",
       "\n",
       "  Notice Preference Definition  Provided Email Address  \\\n",
       "0                        Email                    True   \n",
       "1                        Email                    True   \n",
       "2                        Email                    True   \n",
       "3                        Email                    True   \n",
       "4                        Print                   False   \n",
       "\n",
       "   Year Patron Registered  Within San Francisco County  \n",
       "0                    2015                        False  \n",
       "1                    2019                        False  \n",
       "2                    2022                        False  \n",
       "3                    2022                        False  \n",
       "4                    2023                        False  "
      ]
     },
     "execution_count": 3,
     "metadata": {},
     "output_type": "execute_result"
    }
   ],
   "source": [
    "df.head()"
   ]
  },
  {
   "cell_type": "code",
   "execution_count": 4,
   "id": "259418cf-8fcb-476b-bfb3-64b26e07353f",
   "metadata": {},
   "outputs": [
    {
     "data": {
      "text/plain": [
       "Index                           132\n",
       "Unnamed: 0.3                     80\n",
       "Unnamed: 0.2                     80\n",
       "Unnamed: 0.1                     80\n",
       "Unnamed: 0                       80\n",
       "Patron Type Definition          545\n",
       "Total Checkouts                  80\n",
       "Total Renewals                   80\n",
       "Age Range                       636\n",
       "Home Library Definition         552\n",
       "Circulation Active Month        520\n",
       "Circulation Active Year          80\n",
       "Notice Preference Definition    540\n",
       "Provided Email Address           10\n",
       "Year Patron Registered           80\n",
       "Within San Francisco County      10\n",
       "dtype: int64"
      ]
     },
     "execution_count": 4,
     "metadata": {},
     "output_type": "execute_result"
    }
   ],
   "source": [
    "# Funktion df.memory_usage() einsetzen, um den tatsächlich benötigten Speicher eines DataFrames oder einer Series anzeigen zu lassen.\n",
    "# DataFrame.memory_usage(index=True, deep=False) --> Return the memory usage of each column in bytes.\n",
    "df.memory_usage(deep=True)"
   ]
  },
  {
   "cell_type": "code",
   "execution_count": null,
   "id": "a3fc4de9-4d05-45ca-ba07-c034a7cb39d2",
   "metadata": {},
   "outputs": [],
   "source": []
  }
 ],
 "metadata": {
  "kernelspec": {
   "display_name": "Python 3 (ipykernel)",
   "language": "python",
   "name": "python3"
  },
  "language_info": {
   "codemirror_mode": {
    "name": "ipython",
    "version": 3
   },
   "file_extension": ".py",
   "mimetype": "text/x-python",
   "name": "python",
   "nbconvert_exporter": "python",
   "pygments_lexer": "ipython3",
   "version": "3.13.1"
  }
 },
 "nbformat": 4,
 "nbformat_minor": 5
}
